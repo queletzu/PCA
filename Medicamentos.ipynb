{
  "nbformat": 4,
  "nbformat_minor": 0,
  "metadata": {
    "colab": {
      "name": "Untitled0.ipynb",
      "provenance": [],
      "collapsed_sections": [],
      "authorship_tag": "ABX9TyOxZj/2+/IG6lBta8PN2QjV",
      "include_colab_link": true
    },
    "kernelspec": {
      "name": "python3",
      "display_name": "Python 3"
    }
  },
  "cells": [
    {
      "cell_type": "markdown",
      "metadata": {
        "id": "view-in-github",
        "colab_type": "text"
      },
      "source": [
        "<a href=\"https://colab.research.google.com/github/queletzu/PCA/blob/master/Medicamentos.ipynb\" target=\"_parent\"><img src=\"https://colab.research.google.com/assets/colab-badge.svg\" alt=\"Open In Colab\"/></a>"
      ]
    },
    {
      "cell_type": "code",
      "metadata": {
        "id": "qJ1UJYGQ7ZVS",
        "colab_type": "code",
        "colab": {}
      },
      "source": [
        "# A bit of imports\n",
        "import numpy as np\n",
        "import pandas as pd\n",
        "import warnings\n",
        "warnings.filterwarnings('ignore')\n",
        "\n",
        "# Load in the r magic\n",
        "%reload_ext rpy2.ipython\n",
        "%config IPCompleter.greedy=True\n",
        "%config InlineBackend.figure_format = 'retina'"
      ],
      "execution_count": 0,
      "outputs": []
    },
    {
      "cell_type": "code",
      "metadata": {
        "id": "ZzAndBZ7JyEm",
        "colab_type": "code",
        "colab": {
          "base_uri": "https://localhost:8080/",
          "height": 207
        },
        "outputId": "69778f7c-7e15-432d-e356-41a7f9f5ac2b"
      },
      "source": [
        "!apt-get install libssl-dev > /dev/null\n",
        "!wget https://repo.continuum.io/miniconda/Miniconda3-latest-Linux-x86_64.sh\n",
        "!chmod +x ./Miniconda3-latest-Linux-x86_64.sh\n",
        "!./Miniconda3-latest-Linux-x86_64.sh -b -p /conda  > /dev/null 2>&1 \n",
        "!/conda/bin/conda install -c r r-rstan r-irkernel gxx_linux-64 -y -q > /dev/null 2>&1\n",
        "!/conda/bin/R -e \"IRkernel::installspec(name = 'python2', displayname = 'R', user = FALSE)\"  > /dev/null 2>&1\n",
        "!mkdir /root/.R/\n",
        "!echo \"CXX14FLAGS=-O3 -mtune=native -march=native -Wno-ignored-attributes -Wno-deprecated-declarations\" > /root/.R/Makevars\n",
        "import os\n",
        "os._exit(00)"
      ],
      "execution_count": 0,
      "outputs": [
        {
          "output_type": "stream",
          "text": [
            "--2020-03-19 18:56:16--  https://repo.continuum.io/miniconda/Miniconda3-latest-Linux-x86_64.sh\n",
            "Resolving repo.continuum.io (repo.continuum.io)... 104.18.201.79, 104.18.200.79, 2606:4700::6812:c84f, ...\n",
            "Connecting to repo.continuum.io (repo.continuum.io)|104.18.201.79|:443... connected.\n",
            "HTTP request sent, awaiting response... 200 OK\n",
            "Length: 85055499 (81M) [application/x-sh]\n",
            "Saving to: ‘Miniconda3-latest-Linux-x86_64.sh’\n",
            "\n",
            "Miniconda3-latest-L 100%[===================>]  81.12M   147MB/s    in 0.6s    \n",
            "\n",
            "2020-03-19 18:56:16 (147 MB/s) - ‘Miniconda3-latest-Linux-x86_64.sh’ saved [85055499/85055499]\n",
            "\n"
          ],
          "name": "stdout"
        }
      ]
    },
    {
      "cell_type": "code",
      "metadata": {
        "id": "AJs_ZogIJoh_",
        "colab_type": "code",
        "colab": {
          "base_uri": "https://localhost:8080/",
          "height": 183
        },
        "outputId": "d19ff6b2-0914-40b8-8da0-629d10ba6649"
      },
      "source": [
        "Sys.setenv(PATH= paste(\"/conda/bin\" , Sys.getenv(\"PATH\"), sep = \":\" ) )\n",
        "install.packages('openxlsx', repos='http://cran.rstudio.com/')"
      ],
      "execution_count": 1,
      "outputs": [
        {
          "output_type": "error",
          "ename": "NameError",
          "evalue": "ignored",
          "traceback": [
            "\u001b[0;31m---------------------------------------------------------------------------\u001b[0m",
            "\u001b[0;31mNameError\u001b[0m                                 Traceback (most recent call last)",
            "\u001b[0;32m<ipython-input-1-2da5da37ead3>\u001b[0m in \u001b[0;36m<module>\u001b[0;34m()\u001b[0m\n\u001b[0;32m----> 1\u001b[0;31m \u001b[0mSys\u001b[0m\u001b[0;34m.\u001b[0m\u001b[0msetenv\u001b[0m\u001b[0;34m(\u001b[0m\u001b[0mPATH\u001b[0m\u001b[0;34m=\u001b[0m \u001b[0mpaste\u001b[0m\u001b[0;34m(\u001b[0m\u001b[0;34m\"/conda/bin\"\u001b[0m \u001b[0;34m,\u001b[0m \u001b[0mSys\u001b[0m\u001b[0;34m.\u001b[0m\u001b[0mgetenv\u001b[0m\u001b[0;34m(\u001b[0m\u001b[0;34m\"PATH\"\u001b[0m\u001b[0;34m)\u001b[0m\u001b[0;34m,\u001b[0m \u001b[0msep\u001b[0m \u001b[0;34m=\u001b[0m \u001b[0;34m\":\"\u001b[0m \u001b[0;34m)\u001b[0m \u001b[0;34m)\u001b[0m\u001b[0;34m\u001b[0m\u001b[0;34m\u001b[0m\u001b[0m\n\u001b[0m\u001b[1;32m      2\u001b[0m \u001b[0minstall\u001b[0m\u001b[0;34m.\u001b[0m\u001b[0mpackages\u001b[0m\u001b[0;34m(\u001b[0m\u001b[0;34m'openxlsx'\u001b[0m\u001b[0;34m,\u001b[0m \u001b[0mrepos\u001b[0m\u001b[0;34m=\u001b[0m\u001b[0;34m'http://cran.rstudio.com/'\u001b[0m\u001b[0;34m)\u001b[0m\u001b[0;34m\u001b[0m\u001b[0;34m\u001b[0m\u001b[0m\n",
            "\u001b[0;31mNameError\u001b[0m: name 'Sys' is not defined"
          ]
        }
      ]
    },
    {
      "cell_type": "code",
      "metadata": {
        "id": "BufWYp8iDPaa",
        "colab_type": "code",
        "colab": {
          "base_uri": "https://localhost:8080/",
          "height": 52
        },
        "outputId": "918fd91f-42d3-4445-c263-1ce260e8bdbe"
      },
      "source": [
        "%%R \n",
        "\n",
        "# r imports\n",
        "\n",
        "library(readxl)\n",
        "library(dplyr)\n",
        "library(tidyr)\n",
        "library(tidyverse)\n",
        "library(reshape2)\n",
        "\n",
        "# For plots\n",
        "library(ggplot2)\n",
        "library(grid)\n",
        "library(gtable)\n",
        "\n",
        "\n",
        "# string manip\n",
        "library(stringr)\n",
        "#xlsx\n",
        "library(openxlsx)"
      ],
      "execution_count": 7,
      "outputs": [
        {
          "output_type": "stream",
          "text": [
            "\n",
            "Error in library(openxlsx) : there is no package called ‘openxlsx’\n"
          ],
          "name": "stdout"
        }
      ]
    },
    {
      "cell_type": "code",
      "metadata": {
        "id": "JFGTsbgDDPiG",
        "colab_type": "code",
        "colab": {
          "base_uri": "https://localhost:8080/",
          "height": 69
        },
        "outputId": "9c18def5-d16d-45d6-c212-c962992703dd"
      },
      "source": [
        "%%R \n",
        "contrat<-read.xlsx(\"/Users/queletzu/Desktop/CORonavirus/Contratos2020_200317092010.xlsx\")"
      ],
      "execution_count": 6,
      "outputs": [
        {
          "output_type": "stream",
          "text": [
            "\n",
            "Error in read.xlsx(\"/Users/queletzu/Desktop/CORonavirus/Contratos2020_200317092010.xlsx\") : \n",
            "  could not find function \"read.xlsx\"\n"
          ],
          "name": "stdout"
        }
      ]
    }
  ]
}